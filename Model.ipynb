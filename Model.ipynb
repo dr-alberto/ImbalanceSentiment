{
 "cells": [
  {
   "cell_type": "code",
   "execution_count": 1,
   "metadata": {
    "id": "TZ9rtHh5R0jb"
   },
   "outputs": [],
   "source": [
    "import tensorflow as tf\n",
    "import tensorflow.keras.backend as K\n",
    "import numpy as np\n",
    "import pandas as pd\n",
    "import re\n",
    "import matplotlib.pyplot as plt\n",
    "import sklearn.model_selection"
   ]
  },
  {
   "cell_type": "code",
   "execution_count": 19,
   "metadata": {
    "colab": {
     "base_uri": "https://localhost:8080/"
    },
    "id": "dCvurSR0iMAu",
    "outputId": "09ad70d1-6a8c-49c1-f1e9-b974b758e715"
   },
   "outputs": [
    {
     "data": {
      "text/plain": [
       "(93239, 2)"
      ]
     },
     "execution_count": 19,
     "metadata": {
      "tags": []
     },
     "output_type": "execute_result"
    }
   ],
   "source": [
    "dataset = pd.read_csv('news.csv', sep=',') # or sampled_news_final.csv\n",
    "dataset = dataset.drop(['Unnamed: 0', 'Title', 'SentimentTitle'], axis=1)\n",
    "dataset.columns = ['text', 'sentiment']\n",
    "dataset.shape"
   ]
  },
  {
   "cell_type": "code",
   "execution_count": 20,
   "metadata": {
    "colab": {
     "base_uri": "https://localhost:8080/",
     "height": 204
    },
    "id": "7U1L1a2AQnxu",
    "outputId": "1e94e12b-9cba-4d40-e32a-d896309c5ba2"
   },
   "outputs": [
    {
     "data": {
      "text/html": [
       "<div>\n",
       "<style scoped>\n",
       "    .dataframe tbody tr th:only-of-type {\n",
       "        vertical-align: middle;\n",
       "    }\n",
       "\n",
       "    .dataframe tbody tr th {\n",
       "        vertical-align: top;\n",
       "    }\n",
       "\n",
       "    .dataframe thead th {\n",
       "        text-align: right;\n",
       "    }\n",
       "</style>\n",
       "<table border=\"1\" class=\"dataframe\">\n",
       "  <thead>\n",
       "    <tr style=\"text-align: right;\">\n",
       "      <th></th>\n",
       "      <th>text</th>\n",
       "      <th>sentiment</th>\n",
       "    </tr>\n",
       "  </thead>\n",
       "  <tbody>\n",
       "    <tr>\n",
       "      <th>0</th>\n",
       "      <td>Obama Lays Wreath at Arlington National Cemete...</td>\n",
       "      <td>1</td>\n",
       "    </tr>\n",
       "    <tr>\n",
       "      <th>1</th>\n",
       "      <td>Tim Haywood, investment director business-unit...</td>\n",
       "      <td>1</td>\n",
       "    </tr>\n",
       "    <tr>\n",
       "      <th>2</th>\n",
       "      <td>Nouriel Roubini, NYU professor and chairman at...</td>\n",
       "      <td>1</td>\n",
       "    </tr>\n",
       "    <tr>\n",
       "      <th>3</th>\n",
       "      <td>Finland's economy expanded marginally in the t...</td>\n",
       "      <td>1</td>\n",
       "    </tr>\n",
       "    <tr>\n",
       "      <th>4</th>\n",
       "      <td>Tourism and public spending continued to boost...</td>\n",
       "      <td>1</td>\n",
       "    </tr>\n",
       "  </tbody>\n",
       "</table>\n",
       "</div>"
      ],
      "text/plain": [
       "                                                text  sentiment\n",
       "0  Obama Lays Wreath at Arlington National Cemete...          1\n",
       "1  Tim Haywood, investment director business-unit...          1\n",
       "2  Nouriel Roubini, NYU professor and chairman at...          1\n",
       "3  Finland's economy expanded marginally in the t...          1\n",
       "4  Tourism and public spending continued to boost...          1"
      ]
     },
     "execution_count": 20,
     "metadata": {
      "tags": []
     },
     "output_type": "execute_result"
    }
   ],
   "source": [
    "dataset.head()"
   ]
  },
  {
   "cell_type": "code",
   "execution_count": 21,
   "metadata": {
    "colab": {
     "base_uri": "https://localhost:8080/"
    },
    "id": "EwP4BVnYE6f3",
    "outputId": "9ebb76fe-a6df-424e-a625-1d7f59234eb4"
   },
   "outputs": [
    {
     "data": {
      "text/plain": [
       "1    92990\n",
       "0      158\n",
       "2       91\n",
       "Name: sentiment, dtype: int64"
      ]
     },
     "execution_count": 21,
     "metadata": {
      "tags": []
     },
     "output_type": "execute_result"
    }
   ],
   "source": [
    "dataset['sentiment'].value_counts()"
   ]
  },
  {
   "cell_type": "code",
   "execution_count": 5,
   "metadata": {
    "id": "HE7kD-nXR0lC"
   },
   "outputs": [],
   "source": [
    "X, y = dataset['text'].astype(str).tolist(), dataset['sentiment'].tolist()\n",
    "NUM_CLASSES = 3"
   ]
  },
  {
   "cell_type": "code",
   "execution_count": 6,
   "metadata": {
    "colab": {
     "base_uri": "https://localhost:8080/"
    },
    "id": "DgF9Mt_FR0lM",
    "outputId": "2b560938-d524-4599-a911-2da1a6dcee4b"
   },
   "outputs": [
    {
     "name": "stdout",
     "output_type": "stream",
     "text": [
      "61\n"
     ]
    }
   ],
   "source": [
    "tokenizer = tf.keras.preprocessing.text.Tokenizer()\n",
    "\n",
    "tokenizer.fit_on_texts(X)\n",
    "X_encoded = tokenizer.texts_to_sequences(X)\n",
    "vocab_size = len(tokenizer.word_index) + 1\n",
    "\n",
    "MAX_LEN = max([len(n) for n in X_encoded])\n",
    "print(MAX_LEN)\n",
    "X_encoded = tf.keras.preprocessing.sequence.pad_sequences(X_encoded, maxlen=MAX_LEN)\n",
    "\n",
    "# One Hot Encoding Target\n",
    "y_encoded = np.eye(NUM_CLASSES, dtype='int')[y].astype(float)"
   ]
  },
  {
   "cell_type": "code",
   "execution_count": 7,
   "metadata": {
    "colab": {
     "base_uri": "https://localhost:8080/"
    },
    "id": "3O99E3oznKrL",
    "outputId": "193d03bb-5430-4214-cc64-76d35a47f7fb"
   },
   "outputs": [
    {
     "data": {
      "text/plain": [
       "((250921, 61), (27881, 61), (250921, 3), (27881, 3))"
      ]
     },
     "execution_count": 7,
     "metadata": {
      "tags": []
     },
     "output_type": "execute_result"
    }
   ],
   "source": [
    "X_train, X_test, y_train, y_test = sklearn.model_selection.train_test_split(X_encoded, y_encoded, test_size=0.1)\n",
    "X_train.shape, X_test.shape, y_train.shape, y_test.shape"
   ]
  },
  {
   "cell_type": "markdown",
   "metadata": {
    "id": "LWcf0w44R0lo"
   },
   "source": [
    "# Model"
   ]
  },
  {
   "cell_type": "code",
   "execution_count": 8,
   "metadata": {
    "id": "z38d6f21se_k"
   },
   "outputs": [],
   "source": [
    "import numpy as np\n",
    "\n",
    "class Embeddings():\n",
    "    def __init__(self, path, vector_dimension):\n",
    "        self.path = path \n",
    "        self.vector_dimension = vector_dimension\n",
    "    \n",
    "    @staticmethod\n",
    "    def get_coefs(word, *arr): \n",
    "        return word, np.asarray(arr)\n",
    "\n",
    "    def get_embedding_index(self):\n",
    "        embeddings_index = dict(self.get_coefs(*o.split(\" \")) for o in open(self.path, 'r', errors='ignore', encoding='utf-8'))\n",
    "        return embeddings_index\n",
    "\n",
    "    def create_embedding_matrix(self, tokenizer, max_features):\n",
    "        model_embed = self.get_embedding_index()\n",
    "        embedding_matrix = np.zeros((max_features + 1, self.vector_dimension))\n",
    "        for word, index in tokenizer.word_index.items():\n",
    "            if index > max_features:\n",
    "                break\n",
    "            else:\n",
    "                try:\n",
    "                    embedding_matrix[index] = model_embed[word]\n",
    "                except:\n",
    "                    continue\n",
    "        return embedding_matrix"
   ]
  },
  {
   "cell_type": "code",
   "execution_count": 9,
   "metadata": {
    "id": "4H1aFGfotg8c"
   },
   "outputs": [],
   "source": [
    "#Word embedding\n",
    "\n",
    "#Import GloVe embeddings or other pretrained embeddings\n",
    "embedding = Embeddings(\n",
    "    path = 'glove.6B.200d.txt',\n",
    "    vector_dimension = 200,\n",
    ")\n",
    "\n",
    "embedding_matrix = embedding.create_embedding_matrix(tokenizer, vocab_size)\n",
    "embedding_dim = 200"
   ]
  },
  {
   "cell_type": "code",
   "execution_count": 10,
   "metadata": {
    "id": "jJh8aBkTqiql"
   },
   "outputs": [],
   "source": [
    "class MultiHeadSelfAttention(tf.keras.layers.Layer):\n",
    "    def __init__(self, embed_dim, num_heads=8):\n",
    "        super(MultiHeadSelfAttention, self).__init__()\n",
    "        self.embed_dim = embed_dim\n",
    "        self.num_heads = num_heads\n",
    "        if embed_dim % num_heads != 0:\n",
    "            raise ValueError(\n",
    "                f\"embedding dimension = {embed_dim} should be divisible by number of heads = {num_heads}\"\n",
    "            )\n",
    "        self.projection_dim = embed_dim // num_heads\n",
    "        self.query_dense = tf.keras.layers.Dense(embed_dim)\n",
    "        self.key_dense = tf.keras.layers.Dense(embed_dim)\n",
    "        self.value_dense = tf.keras.layers.Dense(embed_dim)\n",
    "        self.combine_heads = tf.keras.layers.Dense(embed_dim)\n",
    "\n",
    "    def attention(self, query, key, value):\n",
    "        score = tf.matmul(query, key, transpose_b=True)\n",
    "        dim_key = tf.cast(tf.shape(key)[-1], tf.float32)\n",
    "        scaled_score = score / tf.math.sqrt(dim_key)\n",
    "        weights = tf.nn.softmax(scaled_score, axis=-1)\n",
    "        output = tf.matmul(weights, value)\n",
    "        return output, weights\n",
    "\n",
    "    def separate_heads(self, x, batch_size):\n",
    "        x = tf.reshape(x, (batch_size, -1, self.num_heads, self.projection_dim))\n",
    "        return tf.transpose(x, perm=[0, 2, 1, 3])\n",
    "\n",
    "    def call(self, inputs):\n",
    "        # x.shape = [batch_size, seq_len, embedding_dim]\n",
    "        batch_size = tf.shape(inputs)[0]\n",
    "        query = self.query_dense(inputs)  # (batch_size, seq_len, embed_dim)\n",
    "        key = self.key_dense(inputs)  # (batch_size, seq_len, embed_dim)\n",
    "        value = self.value_dense(inputs)  # (batch_size, seq_len, embed_dim)\n",
    "        query = self.separate_heads(\n",
    "            query, batch_size\n",
    "        )  # (batch_size, num_heads, seq_len, projection_dim)\n",
    "        key = self.separate_heads(\n",
    "            key, batch_size\n",
    "        )  # (batch_size, num_heads, seq_len, projection_dim)\n",
    "        value = self.separate_heads(\n",
    "            value, batch_size\n",
    "        )  # (batch_size, num_heads, seq_len, projection_dim)\n",
    "        attention, weights = self.attention(query, key, value)\n",
    "        attention = tf.transpose(\n",
    "            attention, perm=[0, 2, 1, 3]\n",
    "        )  # (batch_size, seq_len, num_heads, projection_dim)\n",
    "        concat_attention = tf.reshape(\n",
    "            attention, (batch_size, -1, self.embed_dim)\n",
    "        )  # (batch_size, seq_len, embed_dim)\n",
    "        output = self.combine_heads(\n",
    "            concat_attention\n",
    "        )  # (batch_size, seq_len, embed_dim)\n",
    "        return output"
   ]
  },
  {
   "cell_type": "code",
   "execution_count": 11,
   "metadata": {
    "id": "jRdKNIoRTyvh"
   },
   "outputs": [],
   "source": [
    "def categorical_focal_loss(classes_num, gamma=4., alpha=.25, e=0.1):\n",
    "    def focal_loss_fixed(target_tensor, prediction_tensor):\n",
    "        import tensorflow as tf\n",
    "        from tensorflow.python.ops import array_ops\n",
    "        from keras import backend as K\n",
    "        \n",
    "        #1# get focal loss with no balanced weight which presented in paper function (4)\n",
    "        zeros = array_ops.zeros_like(prediction_tensor, dtype=prediction_tensor.dtype)\n",
    "        one_minus_p = array_ops.where(tf.greater(target_tensor,zeros), target_tensor - prediction_tensor, zeros)\n",
    "        FT = -1 * (one_minus_p ** gamma) * tf.math.log(tf.clip_by_value(prediction_tensor, 1e-8, 1.0))\n",
    "\n",
    "        #2# get balanced weight alpha\n",
    "        classes_weight = array_ops.zeros_like(prediction_tensor, dtype=prediction_tensor.dtype)\n",
    "\n",
    "        total_num = float(sum(classes_num))\n",
    "        classes_w_t1 = [ total_num / ff for ff in classes_num ]\n",
    "        sum_ = sum(classes_w_t1)\n",
    "        classes_w_t2 = [ ff/sum_ for ff in classes_w_t1 ]   #scale\n",
    "        classes_w_tensor = tf.convert_to_tensor(classes_w_t2, dtype=prediction_tensor.dtype)\n",
    "        classes_weight += classes_w_tensor\n",
    "\n",
    "        alpha = array_ops.where(tf.greater(target_tensor, zeros), classes_weight, zeros)\n",
    "\n",
    "        #3# get balanced focal loss\n",
    "        balanced_fl = alpha * FT\n",
    "        balanced_fl = tf.reduce_mean(balanced_fl)\n",
    "\n",
    "        #4# add other op to prevent overfit\n",
    "        # reference : https://spaces.ac.cn/archives/4493\n",
    "        nb_classes = len(classes_num)\n",
    "        fianal_loss = (1-e) * balanced_fl + e * K.categorical_crossentropy(K.ones_like(prediction_tensor)/nb_classes, prediction_tensor)\n",
    "\n",
    "        return fianal_loss\n",
    "    return focal_loss_fixed"
   ]
  },
  {
   "cell_type": "code",
   "execution_count": 12,
   "metadata": {
    "id": "g_F8WxcNYLAH"
   },
   "outputs": [],
   "source": [
    "class TransformerBlock(tf.keras.Model):\n",
    "    def __init__(self, embed_dim):\n",
    "        super().__init__()\n",
    "        \n",
    "        # Check embeddings and attention dimensions\n",
    "        self.attn = MultiHeadSelfAttention(embed_dim, 4)\n",
    "\n",
    "        self.leakyrelu = tf.keras.layers.LeakyReLU()\n",
    "\n",
    "        self.ffn = tf.keras.Sequential([\n",
    "            tf.keras.layers.Dense(128, activation=self.leakyrelu),\n",
    "            tf.keras.layers.Dropout(0.5),\n",
    "            tf.keras.layers.Dense(64, activation=self.leakyrelu),\n",
    "            tf.keras.layers.Dense(embed_dim, activation=self.leakyrelu),\n",
    "            ])\n",
    "        \n",
    "        self.layernorm1 = tf.keras.layers.LayerNormalization(epsilon=1e-6)\n",
    "        self.layernorm2 = tf.keras.layers.LayerNormalization(epsilon=1e-6)\n",
    "\n",
    "        self.dropout1 = tf.keras.layers.Dropout(0.5)\n",
    "        self.dropout2 = tf.keras.layers.Dropout(0.5)\n",
    "\n",
    "    def call(self, inp, training=False):\n",
    "        x = self.attn(inp)\n",
    "        x = self.dropout1(x)\n",
    "        out_norm1 = self.layernorm1(tf.cast(inp, x.dtype) + x) \n",
    "        x = self.ffn(out_norm1)\n",
    "        x = self.dropout2(x)\n",
    "        x = self.layernorm2(x + out_norm1)\n",
    "\n",
    "        return x\n",
    "\n",
    "class Model(tf.keras.Model):\n",
    "    def __init__(self, embed_dim):\n",
    "        super().__init__(self)\n",
    "        self.embedding_layer = tf.keras.layers.Embedding(vocab_size+1, \n",
    "                                    embedding_dim, \n",
    "                                    weights=[embedding_matrix])\n",
    "        self.transformer_block = TransformerBlock(embed_dim)\n",
    "        self.average_pooling = tf.keras.layers.GlobalAveragePooling1D()\n",
    "        self.dropout1 = tf.keras.layers.Dropout(0.5)\n",
    "        self.ffn = tf.keras.Sequential([\n",
    "            tf.keras.layers.Dense(128, activation='softmax'),\n",
    "            tf.keras.layers.Dropout(0.5),\n",
    "            tf.keras.layers.Dense(128, activation='softmax'),\n",
    "            tf.keras.layers.Dropout(0.5),\n",
    "            tf.keras.layers.Dense(64, activation='softmax'),\n",
    "            tf.keras.layers.Dropout(0.5)\n",
    "            ])\n",
    "        self.dense2 = tf.keras.layers.Dense(NUM_CLASSES, activation=\"softmax\")\n",
    "\n",
    "    def call(self, inputs):\n",
    "        x = self.embedding_layer(inputs)\n",
    "        x = self.transformer_block(x)\n",
    "        x = self.average_pooling(x)\n",
    "        x = self.dropout1(x)\n",
    "        x = self.ffn(x) \n",
    "        x = self.dense2(x) \n",
    "        return x\n",
    "        \n",
    "def optimizer():\n",
    "    return tf.keras.optimizers.Adam()\n",
    "\n",
    "def create_model(classes):\n",
    "    model = Model(embed_dim=embedding_dim)\n",
    "    opt = optimizer()\n",
    "    model.compile(loss=[categorical_focal_loss(classes)], optimizer=opt, metrics=[\"acc\"])\n",
    "    return model"
   ]
  },
  {
   "cell_type": "code",
   "execution_count": 13,
   "metadata": {
    "id": "1WmN_ceJHlLs"
   },
   "outputs": [],
   "source": [
    "from sklearn.utils import class_weight\n",
    "\n",
    "class_weights = class_weight.compute_class_weight('balanced',np.unique(y),y)\n",
    "dict_class_weights = dict(enumerate(class_weights))"
   ]
  },
  {
   "cell_type": "code",
   "execution_count": 15,
   "metadata": {
    "colab": {
     "base_uri": "https://localhost:8080/"
    },
    "id": "PaRlxdrTR0l-",
    "outputId": "21137b7b-3435-43aa-922f-38ee315b3697"
   },
   "outputs": [
    {
     "name": "stdout",
     "output_type": "stream",
     "text": [
      "Epoch 1/2\n",
      "7842/7842 [==============================] - 606s 77ms/step - loss: 0.1297 - acc: 0.4421 - val_loss: 0.1245 - val_acc: 0.6647\n",
      "Epoch 2/2\n",
      "7842/7842 [==============================] - 597s 76ms/step - loss: 0.1257 - acc: 0.6289 - val_loss: 0.1242 - val_acc: 0.6691\n"
     ]
    }
   ],
   "source": [
    "model = create_model(class_weights)\n",
    "history = model.fit(X_train, y_train, epochs=2, validation_data=(X_test, y_test), class_weight=dict_class_weights)"
   ]
  },
  {
   "cell_type": "code",
   "execution_count": 16,
   "metadata": {
    "colab": {
     "base_uri": "https://localhost:8080/"
    },
    "id": "yyz1QXC_hi-h",
    "outputId": "d74842cd-a3f2-4854-ebe7-10989186dbbd"
   },
   "outputs": [
    {
     "name": "stdout",
     "output_type": "stream",
     "text": [
      "Model: \"model_1\"\n",
      "_________________________________________________________________\n",
      "Layer (type)                 Output Shape              Param #   \n",
      "=================================================================\n",
      "embedding_1 (Embedding)      multiple                  7600200   \n",
      "_________________________________________________________________\n",
      "transformer_block_1 (Transfo multiple                  208584    \n",
      "_________________________________________________________________\n",
      "global_average_pooling1d_1 ( multiple                  0         \n",
      "_________________________________________________________________\n",
      "dropout_10 (Dropout)         multiple                  0         \n",
      "_________________________________________________________________\n",
      "sequential_3 (Sequential)    (None, 64)                50496     \n",
      "_________________________________________________________________\n",
      "dense_21 (Dense)             multiple                  195       \n",
      "=================================================================\n",
      "Total params: 7,859,475\n",
      "Trainable params: 7,859,475\n",
      "Non-trainable params: 0\n",
      "_________________________________________________________________\n"
     ]
    }
   ],
   "source": [
    "model.summary()"
   ]
  },
  {
   "cell_type": "markdown",
   "metadata": {
    "id": "bZgZ5ye3OfyI"
   },
   "source": [
    "### Evaluation"
   ]
  },
  {
   "cell_type": "code",
   "execution_count": 23,
   "metadata": {
    "colab": {
     "base_uri": "https://localhost:8080/",
     "height": 333
    },
    "id": "g6MjAWLyR4hG",
    "outputId": "7dd65596-35bc-4bcb-95af-c3b090ea6f3b"
   },
   "outputs": [
    {
     "name": "stdout",
     "output_type": "stream",
     "text": [
      "[[    0 92990     0]\n",
      " [    0 92990     0]\n",
      " [    0 92822     0]]\n"
     ]
    },
    {
     "data": {
      "image/png": "[encoded data removed]",
      "text/plain": [
       "<Figure size 432x288 with 2 Axes>"
      ]
     },
     "metadata": {
      "needs_background": "light",
      "tags": []
     },
     "output_type": "display_data"
    }
   ],
   "source": [
    "from sklearn.metrics import ConfusionMatrixDisplay, confusion_matrix\n",
    "\n",
    "y_pred = [np.argmax(p) for p in model.predict(y_encoded)]\n",
    "cm = confusion_matrix(y_true=[np.argmax(i) for i in y_encoded], y_pred=y_pred, labels=[0,1,2])\n",
    "print(cm)\n",
    "\n",
    "disp = ConfusionMatrixDisplay(confusion_matrix=cm, display_labels=[0,1,2]).plot(include_values=True)\n",
    "plt.savefig('bar.png')"
   ]
  },
  {
   "cell_type": "code",
   "execution_count": null,
   "metadata": {
    "id": "F74jxUe6R_ds"
   },
   "outputs": [],
   "source": [
    "from sklearn.metrics import roc_curve, auc\n",
    "\n",
    "y_pred = [np.argmax(p) for p in model.predict(y_encoded)]\n",
    "y_pred = np.eye(NUM_CLASSES)[y_pred]\n",
    "\n",
    "fpr = dict()\n",
    "tpr = dict()\n",
    "roc_auc = dict()\n",
    "for i in range(NUM_CLASSES):\n",
    "    fpr[i], tpr[i], _ = roc_curve(y_encoded[:, i], y_pred[:, i])\n",
    "    roc_auc[i] = auc(fpr[i], tpr[i])\n",
    "\n",
    "# Plot of a ROC curve for a specific class\n",
    "for i in range(NUM_CLASSES):\n",
    "    plt.figure()\n",
    "    plt.plot(fpr[i], tpr[i], label='ROC curve (area = %0.2f)' % roc_auc[i], color='orange')\n",
    "    plt.plot([0, 1], [0, 1], 'k--')\n",
    "    plt.xlim([0.0, 1.0])\n",
    "    plt.ylim([0.0, 1.05])\n",
    "    plt.xlabel('False Positive Rate')\n",
    "    plt.ylabel('True Positive Rate')\n",
    "    plt.title('Receiver operating characteristic class %s' % i)\n",
    "    plt.legend(loc=\"lower right\")\n",
    "    plt.show()"
   ]
  }
 ],
 "metadata": {
  "accelerator": "GPU",
  "colab": {
   "collapsed_sections": [],
   "name": "Model.ipynb",
   "provenance": [],
   "toc_visible": true
  },
  "kernelspec": {
   "display_name": "Python 3",
   "language": "python",
   "name": "python3"
  },
  "language_info": {
   "codemirror_mode": {
    "name": "ipython",
    "version": 3
   },
   "file_extension": ".py",
   "mimetype": "text/x-python",
   "name": "python",
   "nbconvert_exporter": "python",
   "pygments_lexer": "ipython3",
   "version": "3.7.3"
  }
 },
 "nbformat": 4,
 "nbformat_minor": 1
}
